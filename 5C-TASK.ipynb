{
 "cells": [
  {
   "cell_type": "code",
   "execution_count": 66,
   "id": "ca802ff0",
   "metadata": {},
   "outputs": [],
   "source": [
    "import pandas as pd\n",
    "import numpy as np\n",
    "from datetime import datetime"
   ]
  },
  {
   "cell_type": "code",
   "execution_count": 2,
   "id": "9a2ef894",
   "metadata": {},
   "outputs": [],
   "source": [
    "df = pd.read_csv('sales_data_1.csv')"
   ]
  },
  {
   "cell_type": "code",
   "execution_count": 3,
   "id": "9bfc4ab5",
   "metadata": {},
   "outputs": [
    {
     "data": {
      "text/html": [
       "<div>\n",
       "<style scoped>\n",
       "    .dataframe tbody tr th:only-of-type {\n",
       "        vertical-align: middle;\n",
       "    }\n",
       "\n",
       "    .dataframe tbody tr th {\n",
       "        vertical-align: top;\n",
       "    }\n",
       "\n",
       "    .dataframe thead th {\n",
       "        text-align: right;\n",
       "    }\n",
       "</style>\n",
       "<table border=\"1\" class=\"dataframe\">\n",
       "  <thead>\n",
       "    <tr style=\"text-align: right;\">\n",
       "      <th></th>\n",
       "      <th>Date</th>\n",
       "      <th>Firm bought from</th>\n",
       "      <th>Buying price</th>\n",
       "      <th>Customer</th>\n",
       "      <th>Selling price</th>\n",
       "      <th>Quantity sold</th>\n",
       "    </tr>\n",
       "  </thead>\n",
       "  <tbody>\n",
       "    <tr>\n",
       "      <th>0</th>\n",
       "      <td>21/08/23</td>\n",
       "      <td>Vendor6</td>\n",
       "      <td>72.11</td>\n",
       "      <td>Customer7</td>\n",
       "      <td>91.58</td>\n",
       "      <td>44</td>\n",
       "    </tr>\n",
       "    <tr>\n",
       "      <th>1</th>\n",
       "      <td>21/08/23</td>\n",
       "      <td>Vendor4</td>\n",
       "      <td>75.08</td>\n",
       "      <td>Customer7</td>\n",
       "      <td>83.71</td>\n",
       "      <td>17</td>\n",
       "    </tr>\n",
       "    <tr>\n",
       "      <th>2</th>\n",
       "      <td>21/08/23</td>\n",
       "      <td>Vendor7</td>\n",
       "      <td>83.93</td>\n",
       "      <td>Customer2</td>\n",
       "      <td>103.76</td>\n",
       "      <td>15</td>\n",
       "    </tr>\n",
       "    <tr>\n",
       "      <th>3</th>\n",
       "      <td>21/08/23</td>\n",
       "      <td>Vendor7</td>\n",
       "      <td>52.01</td>\n",
       "      <td>Customer3</td>\n",
       "      <td>64.53</td>\n",
       "      <td>7</td>\n",
       "    </tr>\n",
       "    <tr>\n",
       "      <th>4</th>\n",
       "      <td>21/08/23</td>\n",
       "      <td>Vendor2</td>\n",
       "      <td>98.91</td>\n",
       "      <td>Customer5</td>\n",
       "      <td>140.92</td>\n",
       "      <td>1</td>\n",
       "    </tr>\n",
       "  </tbody>\n",
       "</table>\n",
       "</div>"
      ],
      "text/plain": [
       "       Date Firm bought from  Buying price   Customer  Selling price  \\\n",
       "0  21/08/23          Vendor6         72.11  Customer7          91.58   \n",
       "1  21/08/23          Vendor4         75.08  Customer7          83.71   \n",
       "2  21/08/23          Vendor7         83.93  Customer2         103.76   \n",
       "3  21/08/23          Vendor7         52.01  Customer3          64.53   \n",
       "4  21/08/23          Vendor2         98.91  Customer5         140.92   \n",
       "\n",
       "   Quantity sold  \n",
       "0             44  \n",
       "1             17  \n",
       "2             15  \n",
       "3              7  \n",
       "4              1  "
      ]
     },
     "execution_count": 3,
     "metadata": {},
     "output_type": "execute_result"
    }
   ],
   "source": [
    "df.head(5)"
   ]
  },
  {
   "cell_type": "markdown",
   "id": "1115bbb3",
   "metadata": {},
   "source": [
    "### 1.Overall gross margin "
   ]
  },
  {
   "cell_type": "code",
   "execution_count": 12,
   "id": "2b41e672",
   "metadata": {},
   "outputs": [
    {
     "name": "stdout",
     "output_type": "stream",
     "text": [
      "Overall Gross Margin: 31482.75\n"
     ]
    }
   ],
   "source": [
    "df['Total Revenue'] = df['Selling price'] * df['Quantity sold']\n",
    "df['Total Cost'] = df['Buying price'] * df['Quantity sold']\n",
    "df['Gross Margin'] = df['Total Revenue'] - df['Total Cost']\n",
    "overall_gross_margin = df['Gross Margin'].sum()\n",
    "print(\"Overall Gross Margin:\", overall_gross_margin)"
   ]
  },
  {
   "cell_type": "code",
   "execution_count": 14,
   "id": "879aafe2",
   "metadata": {},
   "outputs": [],
   "source": [
    "overall_total_revenue = df['Total Revenue'].sum()"
   ]
  },
  {
   "cell_type": "code",
   "execution_count": 15,
   "id": "2838645b",
   "metadata": {},
   "outputs": [],
   "source": [
    "overall_gross_margin_percentage = (overall_gross_margin / overall_total_revenue) * 100"
   ]
  },
  {
   "cell_type": "code",
   "execution_count": 18,
   "id": "67b2c686",
   "metadata": {},
   "outputs": [
    {
     "name": "stdout",
     "output_type": "stream",
     "text": [
      "Overall Gross Margin percentage: 24.633558915188384\n"
     ]
    }
   ],
   "source": [
    "print(\"Overall Gross Margin percentage:\",overall_gross_margin_percentage)"
   ]
  },
  {
   "cell_type": "markdown",
   "id": "09e1d241",
   "metadata": {},
   "source": [
    "### 2.Most profitable vendor "
   ]
  },
  {
   "cell_type": "code",
   "execution_count": 20,
   "id": "e46fb526",
   "metadata": {},
   "outputs": [],
   "source": [
    "# Initialize a dictionary to store the gross profit for each vendor\n",
    "vendor_gross_profit = {}"
   ]
  },
  {
   "cell_type": "code",
   "execution_count": 27,
   "id": "219f9eed",
   "metadata": {},
   "outputs": [],
   "source": [
    "# Calculate the gross profit for each vendor\n",
    "for i in range(0,len(df),1):\n",
    "    vendor = df[\"Firm bought from\"][i]\n",
    "    buying_price = df[\"Buying price\"][i]\n",
    "    selling_price = df[\"Selling price\"][i]\n",
    "    quantity = df[\"Quantity sold\"][i]\n",
    "    gross_profit = (selling_price - buying_price) * quantity\n",
    "\n",
    "    # Update the gross profit for the vendor in the dictionary\n",
    "    if vendor in vendor_gross_profit:\n",
    "        vendor_gross_profit[vendor] += gross_profit\n",
    "    else:\n",
    "        vendor_gross_profit[vendor] = gross_profit\n"
   ]
  },
  {
   "cell_type": "code",
   "execution_count": 23,
   "id": "e78cabf0",
   "metadata": {},
   "outputs": [
    {
     "data": {
      "text/plain": [
       "'Vendor6'"
      ]
     },
     "execution_count": 23,
     "metadata": {},
     "output_type": "execute_result"
    }
   ],
   "source": [
    "df[\"Firm bought from\"][0]"
   ]
  },
  {
   "cell_type": "code",
   "execution_count": 26,
   "id": "6e26a15b",
   "metadata": {},
   "outputs": [
    {
     "data": {
      "text/plain": [
       "70"
      ]
     },
     "execution_count": 26,
     "metadata": {},
     "output_type": "execute_result"
    }
   ],
   "source": [
    "len(df)"
   ]
  },
  {
   "cell_type": "code",
   "execution_count": 28,
   "id": "d06754b4",
   "metadata": {},
   "outputs": [
    {
     "data": {
      "text/plain": [
       "{'Vendor6': 1217.9499999999998,\n",
       " 'Vendor4': 6903.309999999999,\n",
       " 'Vendor7': 4961.05,\n",
       " 'Vendor2': 1296.9799999999998,\n",
       " 'Vendor9': 4266.699999999999,\n",
       " 'Vendor3': 6370.670000000001,\n",
       " 'Vendor1': 1555.5899999999997,\n",
       " 'Vendor5': 1616.1400000000003,\n",
       " 'Vendor10': 3040.6200000000003,\n",
       " 'Vendor8': 253.73999999999995}"
      ]
     },
     "execution_count": 28,
     "metadata": {},
     "output_type": "execute_result"
    }
   ],
   "source": [
    "vendor_gross_profit"
   ]
  },
  {
   "cell_type": "code",
   "execution_count": 29,
   "id": "a4e822be",
   "metadata": {},
   "outputs": [],
   "source": [
    "most_profitable_vendor = max(vendor_gross_profit, key=vendor_gross_profit.get)\n",
    "profit = vendor_gross_profit[most_profitable_vendor]"
   ]
  },
  {
   "cell_type": "code",
   "execution_count": 30,
   "id": "6145fa85",
   "metadata": {},
   "outputs": [
    {
     "name": "stdout",
     "output_type": "stream",
     "text": [
      "The most profitable vendor is Vendor4 with a total profit of $6903.31\n"
     ]
    }
   ],
   "source": [
    "print(f\"The most profitable vendor is {most_profitable_vendor} with a total profit of ${profit:.2f}\")"
   ]
  },
  {
   "cell_type": "code",
   "execution_count": null,
   "id": "9730b3ac",
   "metadata": {},
   "outputs": [],
   "source": []
  },
  {
   "cell_type": "markdown",
   "id": "be4e24b8",
   "metadata": {},
   "source": [
    "### 3.Least profitable customer "
   ]
  },
  {
   "cell_type": "code",
   "execution_count": 36,
   "id": "f74dd222",
   "metadata": {},
   "outputs": [],
   "source": [
    "customer_gross_profit = {}\n",
    "\n",
    "# Calculate the gross profit for each customer\n",
    "for i in range(0,len(df),1):\n",
    "    customer = df[\"Customer\"][i]\n",
    "    buying_price = df[\"Buying price\"][i]\n",
    "    selling_price = df[\"Selling price\"][i]\n",
    "    quantity = df[\"Quantity sold\"][i]\n",
    "    gross_profit = (selling_price - buying_price) * quantity\n",
    "\n",
    "    # Update the gross profit for the vendor in the dictionary\n",
    "    if customer in customer_gross_profit:\n",
    "        customer_gross_profit[customer] += gross_profit\n",
    "    else:\n",
    "        customer_gross_profit[customer] = gross_profit\n"
   ]
  },
  {
   "cell_type": "code",
   "execution_count": 37,
   "id": "5cce6c04",
   "metadata": {},
   "outputs": [
    {
     "data": {
      "text/plain": [
       "{'Customer7': 2197.62,\n",
       " 'Customer2': 4215.669999999998,\n",
       " 'Customer3': 1055.0499999999997,\n",
       " 'Customer5': 1315.2800000000002,\n",
       " 'Customer4': 3337.3699999999985,\n",
       " 'Customer6': 1930.7600000000002,\n",
       " 'Customer10': 3692.440000000001,\n",
       " 'Customer8': 6498.91,\n",
       " 'Customer9': 1929.0799999999997,\n",
       " 'Customer1': 5310.569999999999}"
      ]
     },
     "execution_count": 37,
     "metadata": {},
     "output_type": "execute_result"
    }
   ],
   "source": [
    "customer_gross_profit"
   ]
  },
  {
   "cell_type": "code",
   "execution_count": 38,
   "id": "d257cfb2",
   "metadata": {},
   "outputs": [
    {
     "name": "stdout",
     "output_type": "stream",
     "text": [
      "The least profitable customer is Customer3 with a total profit of $1055.05\n"
     ]
    }
   ],
   "source": [
    "# Find the least profitable customer\n",
    "least_profitable_customer = min(customer_gross_profit, key=customer_gross_profit.get)\n",
    "profit = customer_gross_profit[least_profitable_customer]\n",
    "\n",
    "# Print the least profitable customer and their profit\n",
    "print(f\"The least profitable customer is {least_profitable_customer} with a total profit of ${profit:.2f}\")"
   ]
  },
  {
   "cell_type": "markdown",
   "id": "94642607",
   "metadata": {},
   "source": [
    "### 4.Most profitable day of week "
   ]
  },
  {
   "cell_type": "code",
   "execution_count": 49,
   "id": "9516a56d",
   "metadata": {},
   "outputs": [],
   "source": [
    "day_gross_profit = {}"
   ]
  },
  {
   "cell_type": "code",
   "execution_count": 55,
   "id": "fa476fd2",
   "metadata": {},
   "outputs": [],
   "source": [
    "# Calculate the gross profit for each customer\n",
    "for i in range(0,len(df),1):\n",
    "    date_str = df[\"Date\"][i]\n",
    "    buying_price = df[\"Buying price\"][i]\n",
    "    selling_price = df[\"Selling price\"][i]\n",
    "    quantity = df[\"Quantity sold\"][i]\n",
    "    \n",
    "    # Parse the date string to a datetime object and extract the day of the week\n",
    "    date = datetime.strptime(date_str, \"%y/%m/%d\")\n",
    "\n",
    "    # Extract the day of the week\n",
    "    day_of_week = date.strftime(\"%A\")\n",
    "\n",
    "    # Calculate the gross profit for the record\n",
    "    gross_profit = (selling_price - buying_price) * quantity\n",
    "\n",
    "    # Update the gross profit for the corresponding day of the week in the dictionary\n",
    "    if day_of_week in day_gross_profit:\n",
    "        day_gross_profit[day_of_week] += gross_profit\n",
    "    else:\n",
    "        day_gross_profit[day_of_week] = gross_profit\n"
   ]
  },
  {
   "cell_type": "code",
   "execution_count": 56,
   "id": "2e423d79",
   "metadata": {},
   "outputs": [
    {
     "name": "stdout",
     "output_type": "stream",
     "text": [
      "The most profitable day of the week is Monday with a total profit of $9933.80\n"
     ]
    }
   ],
   "source": [
    "# Find the most profitable day of the week\n",
    "most_profitable_day = max(day_gross_profit, key=day_gross_profit.get)\n",
    "profit = day_gross_profit[most_profitable_day]\n",
    "\n",
    "# Print the most profitable day of the week and the total profit\n",
    "print(f\"The most profitable day of the week is {most_profitable_day} with a total profit of ${profit:.2f}\")"
   ]
  },
  {
   "cell_type": "code",
   "execution_count": 57,
   "id": "c6c16bd4",
   "metadata": {},
   "outputs": [
    {
     "data": {
      "text/plain": [
       "{'Monday': 9933.799999999997,\n",
       " 'Tuesday': 3305.35,\n",
       " 'Wednesday': 4392.470000000001,\n",
       " 'Friday': 4866.029999999999,\n",
       " 'Saturday': 3761.94,\n",
       " 'Sunday': 5223.16}"
      ]
     },
     "execution_count": 57,
     "metadata": {},
     "output_type": "execute_result"
    }
   ],
   "source": [
    "day_gross_profit"
   ]
  },
  {
   "cell_type": "markdown",
   "id": "64c85b99",
   "metadata": {},
   "source": [
    "### 5.Least profitable day of the week "
   ]
  },
  {
   "cell_type": "code",
   "execution_count": 58,
   "id": "06ece502",
   "metadata": {},
   "outputs": [
    {
     "name": "stdout",
     "output_type": "stream",
     "text": [
      "The least profitable day of the week is Tuesday with a total profit of $3305.35\n"
     ]
    }
   ],
   "source": [
    "# Find the least profitable day of the week\n",
    "least_profitable_day = min(day_gross_profit, key=day_gross_profit.get)\n",
    "profit = day_gross_profit[least_profitable_day]\n",
    "\n",
    "# Print the least profitable day of the week and the total profit\n",
    "print(f\"The least profitable day of the week is {least_profitable_day} with a total profit of ${profit:.2f}\")"
   ]
  },
  {
   "cell_type": "markdown",
   "id": "49848eda",
   "metadata": {},
   "source": [
    "## Second dataset "
   ]
  },
  {
   "cell_type": "markdown",
   "id": "18394131",
   "metadata": {},
   "source": [
    "### 6.3-day average of the daily gross profit  "
   ]
  },
  {
   "cell_type": "code",
   "execution_count": 86,
   "id": "c6049ad6",
   "metadata": {},
   "outputs": [
    {
     "name": "stdout",
     "output_type": "stream",
     "text": [
      "          Date  Daily Gross Profit  3-Day Average Gross Profit\n",
      "0   2023-08-21             -297.08                         NaN\n",
      "1   2023-08-21            -5484.29                         NaN\n",
      "2   2023-08-21              213.52                -1855.950000\n",
      "3   2023-08-21            -2772.91                -2681.226667\n",
      "4   2023-08-21               42.01                 -839.126667\n",
      "..         ...                 ...                         ...\n",
      "65  2023-08-27             -240.86                 -828.670000\n",
      "66  2023-08-27             -715.11                 -341.993333\n",
      "67  2023-08-27            -2153.86                -1036.610000\n",
      "68  2023-08-27            -1190.40                -1353.123333\n",
      "69  2023-08-27            -1324.84                -1556.366667\n",
      "\n",
      "[70 rows x 3 columns]\n"
     ]
    }
   ],
   "source": [
    "# Load the CSV data into a DataFrame\n",
    "data = pd.read_csv(\"sales_data_2.csv\")\n",
    "\n",
    "# Calculate daily gross profit\n",
    "data['Daily Gross Profit'] = (data['Selling price'] * data['Quantity sold']) - (data['Buying price'] * data['Quantity bought'])\n",
    "\n",
    "# Calculate 3-day average of daily gross profit\n",
    "data['3-Day Average Gross Profit'] = data['Daily Gross Profit'].rolling(window=3).mean()\n",
    "\n",
    "# Print the resulting DataFrame\n",
    "print(data[['Date', 'Daily Gross Profit', '3-Day Average Gross Profit']])"
   ]
  },
  {
   "cell_type": "markdown",
   "id": "3866b527",
   "metadata": {},
   "source": [
    "### 7.3-day trend changes over the time period  "
   ]
  },
  {
   "cell_type": "code",
   "execution_count": 87,
   "id": "8071f0cd",
   "metadata": {},
   "outputs": [],
   "source": [
    "# Calculate daily gross profit\n",
    "data['Daily Gross Profit'] = (data['Selling price'] * data['Quantity sold']) - (data['Buying price'] * data['Quantity bought'])\n",
    "\n",
    "# Calculate 3-day average of daily gross profit\n",
    "data['3-Day Average Gross Profit'] = data['Daily Gross Profit'].rolling(window=3).mean()\n"
   ]
  },
  {
   "cell_type": "code",
   "execution_count": 89,
   "id": "6cdb10a3",
   "metadata": {},
   "outputs": [
    {
     "data": {
      "image/png": "[encoded data removed]",
      "text/plain": [
       "<Figure size 1200x600 with 1 Axes>"
      ]
     },
     "metadata": {},
     "output_type": "display_data"
    }
   ],
   "source": [
    "# Plot the 3-day average gross profit over time\n",
    "plt.figure(figsize=(12, 6))\n",
    "plt.plot(data['Date'], data['3-Day Average Gross Profit'], label='3-Day Average Gross Profit', color='blue')\n",
    "plt.xlabel('Date')\n",
    "plt.ylabel('3-Day Average Gross Profit')\n",
    "plt.title('3-Day Average Gross Profit Over Time')\n",
    "plt.legend()\n",
    "plt.grid(True)\n",
    "\n",
    "# Show the plot\n",
    "plt.show()"
   ]
  },
  {
   "cell_type": "markdown",
   "id": "b74fe2f6",
   "metadata": {},
   "source": [
    "### 8.optimize the sales process to ensure gross margin is maximized "
   ]
  },
  {
   "cell_type": "code",
   "execution_count": 93,
   "id": "77d8e951",
   "metadata": {},
   "outputs": [
    {
     "name": "stdout",
     "output_type": "stream",
     "text": [
      "Average Profit Margin by Vendor:\n",
      "Firm bought from\n",
      "Vendor1    -1690.320000\n",
      "Vendor10    -605.073333\n",
      "Vendor2     -671.831818\n",
      "Vendor3     -321.388333\n",
      "Vendor4     -760.980000\n",
      "Vendor5    -1434.494286\n",
      "Vendor6     -221.823333\n",
      "Vendor7    -1425.609286\n",
      "Vendor8    -1285.293333\n",
      "Vendor9     -543.791667\n",
      "Name: Daily Gross Profit, dtype: float64\n",
      "\n",
      "Low-Performing Vendors:\n",
      "Firm bought from\n",
      "Vendor1    -1690.320000\n",
      "Vendor10    -605.073333\n",
      "Vendor2     -671.831818\n",
      "Vendor3     -321.388333\n",
      "Vendor4     -760.980000\n",
      "Vendor5    -1434.494286\n",
      "Vendor6     -221.823333\n",
      "Vendor7    -1425.609286\n",
      "Vendor8    -1285.293333\n",
      "Vendor9     -543.791667\n",
      "Name: Daily Gross Profit, dtype: float64\n",
      "\n",
      "High-Value Customers:\n",
      "Series([], Name: Daily Gross Profit, dtype: float64)\n",
      "\n",
      "Low-Value Customers:\n",
      "Customer\n",
      "Customer1     -751.755000\n",
      "Customer10     -41.772000\n",
      "Customer2     -919.284000\n",
      "Customer3    -1165.871429\n",
      "Customer4     -559.246667\n",
      "Customer5     -801.517143\n",
      "Customer6     -946.010000\n",
      "Customer7    -2909.940000\n",
      "Customer8     -638.352000\n",
      "Customer9     -323.766000\n",
      "Name: Daily Gross Profit, dtype: float64\n"
     ]
    }
   ],
   "source": [
    "# Calculate daily gross profit\n",
    "data['Daily Gross Profit'] = (data['Selling price'] * data['Quantity sold']) - (data['Buying price'] * data['Quantity bought'])\n",
    "\n",
    "# Calculate vendor-specific average profit margins\n",
    "vendor_avg_profit = data.groupby('Firm bought from')['Daily Gross Profit'].mean()\n",
    "\n",
    "# Calculate customer-specific average profit margins\n",
    "customer_avg_profit = data.groupby('Customer')['Daily Gross Profit'].mean()\n",
    "\n",
    "# Identify low-performing vendors with consistently low profit margins\n",
    "low_performing_vendors = vendor_avg_profit[vendor_avg_profit < 100]\n",
    "\n",
    "# Segment customers based on profitability\n",
    "high_value_customers = customer_avg_profit[customer_avg_profit > 100]\n",
    "low_value_customers = customer_avg_profit[customer_avg_profit < 100]\n",
    "\n",
    "# Print the results\n",
    "print(\"Average Profit Margin by Vendor:\")\n",
    "print(vendor_avg_profit)\n",
    "\n",
    "print(\"\\nLow-Performing Vendors:\")\n",
    "print(low_performing_vendors)\n",
    "\n",
    "print(\"\\nHigh-Value Customers:\")\n",
    "print(high_value_customers)\n",
    "\n",
    "print(\"\\nLow-Value Customers:\")\n",
    "print(low_value_customers)"
   ]
  },
  {
   "cell_type": "markdown",
   "id": "5512e88d",
   "metadata": {},
   "source": [
    "### 9. 25th, 50th (median), and 75th percentiles for both buying and selling prices "
   ]
  },
  {
   "cell_type": "code",
   "execution_count": 94,
   "id": "482de3ab",
   "metadata": {},
   "outputs": [
    {
     "name": "stdout",
     "output_type": "stream",
     "text": [
      "Buying Price Percentiles:\n",
      "25th Percentile: 29.90\n",
      "Median (50th Percentile): 60.76\n",
      "75th Percentile: 78.32\n",
      "\n",
      "Selling Price Percentiles:\n",
      "25th Percentile: 38.98\n",
      "Median (50th Percentile): 78.99\n",
      "75th Percentile: 103.40\n"
     ]
    }
   ],
   "source": [
    "# Calculate the percentiles for buying prices\n",
    "buying_price_percentiles = data['Buying price'].quantile([0.25, 0.50, 0.75])\n",
    "\n",
    "# Calculate the percentiles for selling prices\n",
    "selling_price_percentiles = data['Selling price'].quantile([0.25, 0.50, 0.75])\n",
    "\n",
    "# Print the results\n",
    "print(\"Buying Price Percentiles:\")\n",
    "print(\"25th Percentile: {:.2f}\".format(buying_price_percentiles[0.25]))\n",
    "print(\"Median (50th Percentile): {:.2f}\".format(buying_price_percentiles[0.50]))\n",
    "print(\"75th Percentile: {:.2f}\".format(buying_price_percentiles[0.75]))\n",
    "\n",
    "print(\"\\nSelling Price Percentiles:\")\n",
    "print(\"25th Percentile: {:.2f}\".format(selling_price_percentiles[0.25]))\n",
    "print(\"Median (50th Percentile): {:.2f}\".format(selling_price_percentiles[0.50]))\n",
    "print(\"75th Percentile: {:.2f}\".format(selling_price_percentiles[0.75]))"
   ]
  },
  {
   "cell_type": "markdown",
   "id": "de5a19df",
   "metadata": {},
   "source": [
    "### 10.Sapota’s prices fall below the 25th percentile or above the 75th percentile"
   ]
  },
  {
   "cell_type": "code",
   "execution_count": 100,
   "id": "e59d534a",
   "metadata": {},
   "outputs": [
    {
     "name": "stdout",
     "output_type": "stream",
     "text": [
      "Analysis for vendor: Vendor1\n",
      "Buying Prices Below 25th Percentile: 1 times\n",
      "Buying Prices Above 75th Percentile: 1 times\n",
      "Selling Prices Below 25th Percentile: 1 times\n",
      "Selling Prices Above 75th Percentile: 1 times\n"
     ]
    }
   ],
   "source": [
    "# Specify the vendor you want to analyze\n",
    "vendor_name = \"Vendor1\"\n",
    "\n",
    "# Filter the dataset to include only transactions involving the specified vendor\n",
    "sapota_data = data[data['Firm bought from'] == vendor_name]\n",
    "\n",
    "# Calculate the 25th and 75th percentiles for buying and selling prices\n",
    "buying_25th_percentile = sapota_data['Buying price'].quantile(0.25)\n",
    "buying_75th_percentile = sapota_data['Buying price'].quantile(0.75)\n",
    "selling_25th_percentile = sapota_data['Selling price'].quantile(0.25)\n",
    "selling_75th_percentile = sapota_data['Selling price'].quantile(0.75)\n",
    "\n",
    "# Count how many times prices fall below the 25th percentile or above the 75th percentile\n",
    "buying_below_25th = len(sapota_data[sapota_data['Buying price'] < buying_25th_percentile])\n",
    "buying_above_75th = len(sapota_data[sapota_data['Buying price'] > buying_75th_percentile])\n",
    "selling_below_25th = len(sapota_data[sapota_data['Selling price'] < selling_25th_percentile])\n",
    "selling_above_75th = len(sapota_data[sapota_data['Selling price'] > selling_75th_percentile])\n",
    "\n",
    "# Print the results\n",
    "print(f\"Analysis for vendor: {vendor_name}\")\n",
    "print(f\"Buying Prices Below 25th Percentile: {buying_below_25th} times\")\n",
    "print(f\"Buying Prices Above 75th Percentile: {buying_above_75th} times\")\n",
    "print(f\"Selling Prices Below 25th Percentile: {selling_below_25th} times\")\n",
    "print(f\"Selling Prices Above 75th Percentile: {selling_above_75th} times\")"
   ]
  },
  {
   "cell_type": "code",
   "execution_count": null,
   "id": "78b6ce11",
   "metadata": {},
   "outputs": [],
   "source": []
  }
 ],
 "metadata": {
  "kernelspec": {
   "display_name": "Python 3 (ipykernel)",
   "language": "python",
   "name": "python3"
  },
  "language_info": {
   "codemirror_mode": {
    "name": "ipython",
    "version": 3
   },
   "file_extension": ".py",
   "mimetype": "text/x-python",
   "name": "python",
   "nbconvert_exporter": "python",
   "pygments_lexer": "ipython3",
   "version": "3.10.11"
  }
 },
 "nbformat": 4,
 "nbformat_minor": 5
}
